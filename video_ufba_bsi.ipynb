{
 "cells": [
  {
   "cell_type": "code",
   "execution_count": 1,
   "metadata": {},
   "outputs": [
    {
     "name": "stdout",
     "output_type": "stream",
     "text": [
      "pygame 1.9.4\n",
      "Hello from the pygame community. https://www.pygame.org/contribute.html\n"
     ]
    }
   ],
   "source": [
    "from guide_automator_function import *\n",
    "from guide_automator_video import *"
   ]
  },
  {
   "cell_type": "markdown",
   "metadata": {},
   "source": [
    "# UFBA - BSI\n",
    "\n",
    "Buscando o link para o site do BSI no site da UFBA."
   ]
  },
  {
   "cell_type": "code",
   "execution_count": 2,
   "metadata": {},
   "outputs": [
    {
     "name": "stdout",
     "output_type": "stream",
     "text": [
      "(0, 0)\n",
      "Fake cursor was already added\n",
      "Fake cursor was already added\n",
      "Fake cursor was already added\n",
      "(1487.703125, 95.0)\n",
      "Fake cursor was already added\n",
      "(666.265625, 443.0)\n",
      "Fake cursor was already added\n",
      "\n",
      " ---- Video Info ----\n",
      "  => recording time: 87.61628675460815\n",
      "  => average FPS / expected: 13.022692952004034  /  14\n",
      "  => captured frames / expected:  1141  /  1226.6280145645142\n",
      "  => skipped frames / average per second:  347  /  3.9604508802326026\n"
     ]
    }
   ],
   "source": [
    "start_recording(\"vide_ufba_bsi\")\n",
    "get('https://www.ufba.br/')\n",
    "sleep(1)\n",
    "speak(\"Este é o site da UFBA\")\n",
    "sleep(1)\n",
    "speak(\"Clique na barra de busca\")\n",
    "move_fake_mouse(\"#edit-search-block-form--2\")\n",
    "click(\"#edit-search-block-form--2\")\n",
    "sleep(1)\n",
    "speak(\"Escreva Bacharelado Sistemas de Informação\")\n",
    "sleep(1)\n",
    "fillIn(\"#edit-search-block-form--2\", \"Bacharelado Sistemas de Informação\")\n",
    "sleep(1)\n",
    "speak(\"Clique no botão buscar\")\n",
    "move_fake_mouse(\"#search-block-form > div > div > div.input-group > span > button\")\n",
    "click(\"#search-block-form > div > div > div.input-group > span > button\")\n",
    "sleep(1)\n",
    "speak(\"Clique no link Sistemas de Informação Bacharelado\")\n",
    "move_fake_mouse(\"#block-system-main > ol > li:nth-child(1) > h3 > a\")\n",
    "click(\"#block-system-main > ol > li:nth-child(1) > h3 > a\")\n",
    "sleep(1)\n",
    "speak(\"Clique no link para ir para o site do curso\")\n",
    "move_fake_mouse(\"#node-7990 > div.field.field-name-field-link.field-type-link-field.field-label-inline.clearfix > div.field-items > div > a\")\n",
    "click(\"#node-7990 > div.field.field-name-field-link.field-type-link-field.field-label-inline.clearfix > div.field-items > div > a\")\n",
    "sleep(1)\n",
    "speak(\"Este é o site do curso Sistemas de Informação da UFBA\")\n",
    "sleep(2)\n",
    "stop_recording()\n",
    "close()"
   ]
  },
  {
   "cell_type": "markdown",
   "metadata": {},
   "source": [
    "Para logar escreva seu endereço de e-mail e clique no botão Próxima."
   ]
  },
  {
   "cell_type": "code",
   "execution_count": null,
   "metadata": {},
   "outputs": [],
   "source": []
  }
 ],
 "metadata": {
  "kernelspec": {
   "display_name": "Python 3",
   "language": "python",
   "name": "python3"
  },
  "language_info": {
   "codemirror_mode": {
    "name": "ipython",
    "version": 3
   },
   "file_extension": ".py",
   "mimetype": "text/x-python",
   "name": "python",
   "nbconvert_exporter": "python",
   "pygments_lexer": "ipython3",
   "version": "3.6.8"
  }
 },
 "nbformat": 4,
 "nbformat_minor": 2
}
