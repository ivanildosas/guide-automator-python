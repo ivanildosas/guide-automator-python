{
 "cells": [
  {
   "cell_type": "code",
   "execution_count": 1,
   "metadata": {},
   "outputs": [
    {
     "name": "stdout",
     "output_type": "stream",
     "text": [
      "pygame 1.9.4\n",
      "Hello from the pygame community. https://www.pygame.org/contribute.html\n"
     ]
    }
   ],
   "source": [
    "from guide_automator_function import *\n",
    "from guide_automator_video import *"
   ]
  },
  {
   "cell_type": "markdown",
   "metadata": {},
   "source": [
    "# Test Video\n",
    "\n",
    "Testando gravação de áudio e vídeo."
   ]
  },
  {
   "cell_type": "code",
   "execution_count": 2,
   "metadata": {},
   "outputs": [
    {
     "name": "stdout",
     "output_type": "stream",
     "text": [
      "\n",
      " ---- Video Info ----\n",
      "  => recording time: 9.951889991760254\n",
      "  => average FPS / expected: 16.278314986814483  /  20\n",
      "  => captured frames / expected:  162  /  199.03779983520508\n",
      "  => skipped frames / average per second:  0  /  0.0\n"
     ]
    }
   ],
   "source": [
    "start_recording(\"test-recording\")\n",
    "sleep(1)\n",
    "speak(\"Iniciando Teste de gravação de áudio e vídeo\")\n",
    "sleep(1)\n",
    "get('https://www.google.com/')\n",
    "sleep(2)\n",
    "speak(\"Fim do teste\")\n",
    "sleep(1)\n",
    "stop_recording()\n",
    "close()"
   ]
  },
  {
   "cell_type": "markdown",
   "metadata": {},
   "source": [
    "Para logar escreva seu endereço de e-mail e clique no botão Próxima."
   ]
  },
  {
   "cell_type": "code",
   "execution_count": null,
   "metadata": {},
   "outputs": [],
   "source": []
  }
 ],
 "metadata": {
  "kernelspec": {
   "display_name": "Python 3",
   "language": "python",
   "name": "python3"
  },
  "language_info": {
   "codemirror_mode": {
    "name": "ipython",
    "version": 3
   },
   "file_extension": ".py",
   "mimetype": "text/x-python",
   "name": "python",
   "nbconvert_exporter": "python",
   "pygments_lexer": "ipython3",
   "version": "3.6.8"
  }
 },
 "nbformat": 4,
 "nbformat_minor": 2
}
